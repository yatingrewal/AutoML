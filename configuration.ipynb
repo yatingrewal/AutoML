{
 "cells": [
  {
   "cell_type": "code",
   "execution_count": 1,
   "metadata": {},
   "outputs": [],
   "source": [
    "import os\n",
    "import json\n",
    "from collections import defaultdict"
   ]
  },
  {
   "cell_type": "code",
   "execution_count": 2,
   "metadata": {},
   "outputs": [],
   "source": [
    "CONFIGURATIONS = './configurations/'\n",
    "EXPERIMENT_VERSION = 'exp_v2'\n",
    "config_file_name = EXPERIMENT_VERSION + '.json'\n",
    "\n",
    "config_file_name_path = os.path.join(CONFIGURATIONS + config_file_name)"
   ]
  },
  {
   "cell_type": "code",
   "execution_count": 3,
   "metadata": {},
   "outputs": [],
   "source": [
    "def build_feature_info(missing_data_operation = None,\n",
    "                       category_encoding_operation = None, \n",
    "                       feature_standarization_operation = None):\n",
    "    return {\n",
    "        'missing': missing_data_operation,\n",
    "        'category_encoding': category_encoding_operation,\n",
    "        'feature_standarization': feature_standarization_operation\n",
    "    }"
   ]
  },
  {
   "cell_type": "code",
   "execution_count": 6,
   "metadata": {},
   "outputs": [],
   "source": [
    "configuration = {\n",
    "        \n",
    "            'metadata': {\n",
    "                'date': 'transactiondate',\n",
    "                'target': 'logerror',\n",
    "#                 'drop': ['buildingqualitytypeid', 'calculatedfinishedsquarefeet'],\n",
    "                'kfold': 10\n",
    "            },\n",
    "            'features': {\n",
    "                        'heatingorsystemtypeid': build_feature_info(missing_data_operation = 'Mean', feature_standarization_operation =  'Standard' ),\n",
    "                        'regionidcity': build_feature_info(missing_data_operation = 'Mean', feature_standarization_operation =  'MinMax' ),\n",
    "                        'yearbuilt': build_feature_info(missing_data_operation = 'Mean', feature_standarization_operation =  'MinMax' ),\n",
    "                        'lotsizesquarefeet': build_feature_info(missing_data_operation = 'Mean', feature_standarization_operation =  'Standard' ),\n",
    "                        'taxvaluedollarcnt': build_feature_info(missing_data_operation = 'Mean', feature_standarization_operation =  'MinMax' ),\n",
    "                        'rawcensustractandblock': build_feature_info(missing_data_operation = 'Mean', feature_standarization_operation =  'Standard' ),\n",
    "#                         'propertycountylandusecode': build_feature_info(missing_data_operation = 'Mode', category_encoding_operation =  'Label' ),\n",
    "                        'buildingqualitytypeid': build_feature_info(missing_data_operation = 'Mean', feature_standarization_operation =  'Standard' ),\n",
    "            },\n",
    "    \n",
    "             'feature_selection': {\n",
    "                                'operation': 'RFE',\n",
    "                                'num_feats': 7\n",
    "             } ,\n",
    "            'features_to_analyze': ['transactiondate', 'logerror']\n",
    "        }\n"
   ]
  },
  {
   "cell_type": "code",
   "execution_count": 7,
   "metadata": {},
   "outputs": [],
   "source": [
    "with open(config_file_name_path, 'w') as f:\n",
    "    json.dump(configuration, f)"
   ]
  },
  {
   "cell_type": "code",
   "execution_count": null,
   "metadata": {},
   "outputs": [],
   "source": []
  }
 ],
 "metadata": {
  "kernelspec": {
   "display_name": "Python 3",
   "language": "python",
   "name": "python3"
  },
  "language_info": {
   "codemirror_mode": {
    "name": "ipython",
    "version": 3
   },
   "file_extension": ".py",
   "mimetype": "text/x-python",
   "name": "python",
   "nbconvert_exporter": "python",
   "pygments_lexer": "ipython3",
   "version": "3.6.6"
  }
 },
 "nbformat": 4,
 "nbformat_minor": 2
}
