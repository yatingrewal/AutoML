{
 "cells": [
  {
   "cell_type": "code",
   "execution_count": 5,
   "metadata": {},
   "outputs": [],
   "source": [
    "%matplotlib inline \n",
    "import matplotlib.pyplot as plt\n",
    "import pandas as pd\n",
    "import numpy as np\n",
    "import seaborn as sns\n",
    "import os\n",
    "\n",
    "from IPython.core.display import display, HTML\n",
    "from ipywidgets import *\n",
    "import warnings\n",
    "import matplotlib\n",
    "\n",
    "import json\n",
    "warnings.filterwarnings('ignore')"
   ]
  },
  {
   "cell_type": "code",
   "execution_count": 71,
   "metadata": {},
   "outputs": [],
   "source": [
    "SMALL_SIZE = 12\n",
    "MEDIUM_SIZE = 16\n",
    "BIGGER_SIZE = 24\n",
    "\n",
    "plt.rc('font', size=MEDIUM_SIZE)          # controls default text sizes\n",
    "plt.rc('axes', titlesize=SMALL_SIZE)     # fontsize of the axes title\n",
    "plt.rc('axes', labelsize=MEDIUM_SIZE)    # fontsize of the x and y labels\n",
    "plt.rc('xtick', labelsize=MEDIUM_SIZE)    # fontsize of the tick labels\n",
    "plt.rc('ytick', labelsize=MEDIUM_SIZE)    # fontsize of the tick labels\n",
    "plt.rc('legend', fontsize=SMALL_SIZE)    # legend fontsize\n",
    "plt.rc('figure', titlesize=BIGGER_SIZE)  # fontsize of the figure title"
   ]
  },
  {
   "cell_type": "markdown",
   "metadata": {},
   "source": [
    "## Load Configuration"
   ]
  },
  {
   "cell_type": "code",
   "execution_count": 72,
   "metadata": {},
   "outputs": [],
   "source": [
    "CONFIGURATIONS = './configurations/'\n",
    "EXPERIMENT_VERSION = 'exp_v2'\n",
    "config_file_name = EXPERIMENT_VERSION + '.json'\n",
    "\n",
    "config_file_name_path = os.path.join(CONFIGURATIONS + config_file_name)\n",
    "\n",
    "with open(config_file_name_path, 'r') as f:\n",
    "    configuration = json.load(f)"
   ]
  },
  {
   "cell_type": "code",
   "execution_count": 73,
   "metadata": {},
   "outputs": [
    {
     "data": {
      "text/plain": [
       "{'metadata': {'date': 'transactiondate', 'target': 'logerror', 'kfold': 10},\n",
       " 'features': {'heatingorsystemtypeid': {'missing': 'Mean',\n",
       "   'category_encoding': None,\n",
       "   'feature_standarization': 'Standard'},\n",
       "  'regionidcity': {'missing': 'Mean',\n",
       "   'category_encoding': None,\n",
       "   'feature_standarization': 'MinMax'},\n",
       "  'yearbuilt': {'missing': 'Mean',\n",
       "   'category_encoding': None,\n",
       "   'feature_standarization': 'MinMax'},\n",
       "  'lotsizesquarefeet': {'missing': 'Mean',\n",
       "   'category_encoding': None,\n",
       "   'feature_standarization': 'Standard'},\n",
       "  'taxvaluedollarcnt': {'missing': 'Mean',\n",
       "   'category_encoding': None,\n",
       "   'feature_standarization': 'MinMax'},\n",
       "  'rawcensustractandblock': {'missing': 'Mean',\n",
       "   'category_encoding': None,\n",
       "   'feature_standarization': 'Standard'},\n",
       "  'buildingqualitytypeid': {'missing': 'Mean',\n",
       "   'category_encoding': None,\n",
       "   'feature_standarization': 'Standard'}},\n",
       " 'feature_selection': {'operation': 'RFE', 'num_feats': 7},\n",
       " 'features_to_analyze': ['transactiondate', 'logerror']}"
      ]
     },
     "execution_count": 73,
     "metadata": {},
     "output_type": "execute_result"
    }
   ],
   "source": [
    "configuration"
   ]
  },
  {
   "cell_type": "markdown",
   "metadata": {},
   "source": [
    "# Read Data"
   ]
  },
  {
   "cell_type": "code",
   "execution_count": 74,
   "metadata": {},
   "outputs": [],
   "source": [
    "DATA_DIR = './data/'\n",
    "TRAIN_DATA = os.path.join(DATA_DIR + 'base_data/train.csv')\n",
    "train_df = pd.read_csv(TRAIN_DATA)\n",
    "\n",
    "date_feature = configuration['metadata']['date']\n",
    "train_df[date_feature] = pd.to_datetime(train_df[date_feature])"
   ]
  },
  {
   "cell_type": "code",
   "execution_count": 75,
   "metadata": {},
   "outputs": [
    {
     "data": {
      "text/html": [
       "<div>\n",
       "<style scoped>\n",
       "    .dataframe tbody tr th:only-of-type {\n",
       "        vertical-align: middle;\n",
       "    }\n",
       "\n",
       "    .dataframe tbody tr th {\n",
       "        vertical-align: top;\n",
       "    }\n",
       "\n",
       "    .dataframe thead th {\n",
       "        text-align: right;\n",
       "    }\n",
       "</style>\n",
       "<table border=\"1\" class=\"dataframe\">\n",
       "  <thead>\n",
       "    <tr style=\"text-align: right;\">\n",
       "      <th></th>\n",
       "      <th>heatingorsystemtypeid</th>\n",
       "      <th>buildingqualitytypeid</th>\n",
       "      <th>propertyzoningdesc</th>\n",
       "      <th>unitcnt</th>\n",
       "      <th>lotsizesquarefeet</th>\n",
       "      <th>finishedsquarefeet12</th>\n",
       "      <th>regionidcity</th>\n",
       "      <th>calculatedbathnbr</th>\n",
       "      <th>fullbathcnt</th>\n",
       "      <th>yearbuilt</th>\n",
       "      <th>...</th>\n",
       "      <th>fips</th>\n",
       "      <th>roomcnt</th>\n",
       "      <th>regionidcounty</th>\n",
       "      <th>rawcensustractandblock</th>\n",
       "      <th>propertylandusetypeid</th>\n",
       "      <th>propertycountylandusecode</th>\n",
       "      <th>longitude</th>\n",
       "      <th>transactiondate</th>\n",
       "      <th>logerror</th>\n",
       "      <th>parcelid</th>\n",
       "    </tr>\n",
       "  </thead>\n",
       "  <tbody>\n",
       "    <tr>\n",
       "      <th>0</th>\n",
       "      <td>NaN</td>\n",
       "      <td>NaN</td>\n",
       "      <td>NaN</td>\n",
       "      <td>NaN</td>\n",
       "      <td>4506.0</td>\n",
       "      <td>3100.0</td>\n",
       "      <td>53571.0</td>\n",
       "      <td>3.5</td>\n",
       "      <td>3.0</td>\n",
       "      <td>1998.0</td>\n",
       "      <td>...</td>\n",
       "      <td>6059.0</td>\n",
       "      <td>0.0</td>\n",
       "      <td>1286.0</td>\n",
       "      <td>6.059063e+07</td>\n",
       "      <td>261.0</td>\n",
       "      <td>122</td>\n",
       "      <td>-117869207.0</td>\n",
       "      <td>2017-01-01</td>\n",
       "      <td>0.025595</td>\n",
       "      <td>14297519</td>\n",
       "    </tr>\n",
       "    <tr>\n",
       "      <th>1</th>\n",
       "      <td>NaN</td>\n",
       "      <td>NaN</td>\n",
       "      <td>NaN</td>\n",
       "      <td>NaN</td>\n",
       "      <td>12647.0</td>\n",
       "      <td>1465.0</td>\n",
       "      <td>13091.0</td>\n",
       "      <td>1.0</td>\n",
       "      <td>1.0</td>\n",
       "      <td>1967.0</td>\n",
       "      <td>...</td>\n",
       "      <td>6111.0</td>\n",
       "      <td>5.0</td>\n",
       "      <td>2061.0</td>\n",
       "      <td>6.111001e+07</td>\n",
       "      <td>261.0</td>\n",
       "      <td>1110</td>\n",
       "      <td>-119281531.0</td>\n",
       "      <td>2017-01-01</td>\n",
       "      <td>0.055619</td>\n",
       "      <td>17052889</td>\n",
       "    </tr>\n",
       "    <tr>\n",
       "      <th>2</th>\n",
       "      <td>NaN</td>\n",
       "      <td>NaN</td>\n",
       "      <td>NaN</td>\n",
       "      <td>NaN</td>\n",
       "      <td>8432.0</td>\n",
       "      <td>1243.0</td>\n",
       "      <td>21412.0</td>\n",
       "      <td>2.0</td>\n",
       "      <td>2.0</td>\n",
       "      <td>1962.0</td>\n",
       "      <td>...</td>\n",
       "      <td>6059.0</td>\n",
       "      <td>6.0</td>\n",
       "      <td>1286.0</td>\n",
       "      <td>6.059022e+07</td>\n",
       "      <td>261.0</td>\n",
       "      <td>122</td>\n",
       "      <td>-117823170.0</td>\n",
       "      <td>2017-01-01</td>\n",
       "      <td>0.005383</td>\n",
       "      <td>14186244</td>\n",
       "    </tr>\n",
       "    <tr>\n",
       "      <th>3</th>\n",
       "      <td>2.0</td>\n",
       "      <td>8.0</td>\n",
       "      <td>LCR110000*</td>\n",
       "      <td>1.0</td>\n",
       "      <td>13038.0</td>\n",
       "      <td>2376.0</td>\n",
       "      <td>396551.0</td>\n",
       "      <td>3.0</td>\n",
       "      <td>3.0</td>\n",
       "      <td>1970.0</td>\n",
       "      <td>...</td>\n",
       "      <td>6037.0</td>\n",
       "      <td>0.0</td>\n",
       "      <td>3101.0</td>\n",
       "      <td>6.037300e+07</td>\n",
       "      <td>261.0</td>\n",
       "      <td>0101</td>\n",
       "      <td>-118240722.0</td>\n",
       "      <td>2017-01-01</td>\n",
       "      <td>-0.103410</td>\n",
       "      <td>12177905</td>\n",
       "    </tr>\n",
       "    <tr>\n",
       "      <th>4</th>\n",
       "      <td>2.0</td>\n",
       "      <td>8.0</td>\n",
       "      <td>LAR3</td>\n",
       "      <td>1.0</td>\n",
       "      <td>278581.0</td>\n",
       "      <td>1312.0</td>\n",
       "      <td>12447.0</td>\n",
       "      <td>3.0</td>\n",
       "      <td>3.0</td>\n",
       "      <td>1964.0</td>\n",
       "      <td>...</td>\n",
       "      <td>6037.0</td>\n",
       "      <td>0.0</td>\n",
       "      <td>3101.0</td>\n",
       "      <td>6.037124e+07</td>\n",
       "      <td>266.0</td>\n",
       "      <td>010C</td>\n",
       "      <td>-118414640.0</td>\n",
       "      <td>2017-01-01</td>\n",
       "      <td>0.006940</td>\n",
       "      <td>10887214</td>\n",
       "    </tr>\n",
       "  </tbody>\n",
       "</table>\n",
       "<p>5 rows × 31 columns</p>\n",
       "</div>"
      ],
      "text/plain": [
       "   heatingorsystemtypeid  buildingqualitytypeid propertyzoningdesc  unitcnt  \\\n",
       "0                    NaN                    NaN                NaN      NaN   \n",
       "1                    NaN                    NaN                NaN      NaN   \n",
       "2                    NaN                    NaN                NaN      NaN   \n",
       "3                    2.0                    8.0         LCR110000*      1.0   \n",
       "4                    2.0                    8.0               LAR3      1.0   \n",
       "\n",
       "   lotsizesquarefeet  finishedsquarefeet12  regionidcity  calculatedbathnbr  \\\n",
       "0             4506.0                3100.0       53571.0                3.5   \n",
       "1            12647.0                1465.0       13091.0                1.0   \n",
       "2             8432.0                1243.0       21412.0                2.0   \n",
       "3            13038.0                2376.0      396551.0                3.0   \n",
       "4           278581.0                1312.0       12447.0                3.0   \n",
       "\n",
       "   fullbathcnt  yearbuilt  ...    fips  roomcnt  regionidcounty  \\\n",
       "0          3.0     1998.0  ...  6059.0      0.0          1286.0   \n",
       "1          1.0     1967.0  ...  6111.0      5.0          2061.0   \n",
       "2          2.0     1962.0  ...  6059.0      6.0          1286.0   \n",
       "3          3.0     1970.0  ...  6037.0      0.0          3101.0   \n",
       "4          3.0     1964.0  ...  6037.0      0.0          3101.0   \n",
       "\n",
       "   rawcensustractandblock  propertylandusetypeid  propertycountylandusecode  \\\n",
       "0            6.059063e+07                  261.0                        122   \n",
       "1            6.111001e+07                  261.0                       1110   \n",
       "2            6.059022e+07                  261.0                        122   \n",
       "3            6.037300e+07                  261.0                       0101   \n",
       "4            6.037124e+07                  266.0                       010C   \n",
       "\n",
       "     longitude  transactiondate  logerror  parcelid  \n",
       "0 -117869207.0       2017-01-01  0.025595  14297519  \n",
       "1 -119281531.0       2017-01-01  0.055619  17052889  \n",
       "2 -117823170.0       2017-01-01  0.005383  14186244  \n",
       "3 -118240722.0       2017-01-01 -0.103410  12177905  \n",
       "4 -118414640.0       2017-01-01  0.006940  10887214  \n",
       "\n",
       "[5 rows x 31 columns]"
      ]
     },
     "execution_count": 75,
     "metadata": {},
     "output_type": "execute_result"
    }
   ],
   "source": [
    "train_df.head()"
   ]
  },
  {
   "cell_type": "markdown",
   "metadata": {},
   "source": [
    "## Time Feature Extraction"
   ]
  },
  {
   "cell_type": "code",
   "execution_count": 76,
   "metadata": {},
   "outputs": [],
   "source": [
    "train_df['dayofweek'] = train_df[date_feature].dt.dayofweek\n",
    "train_df['month'] = train_df[date_feature].dt.month\n",
    "train_df['day'] = train_df[date_feature].dt.day\n",
    "train_df['week'] = train_df[date_feature].dt.week\n",
    "train_df['year'] = train_df[date_feature].dt.year"
   ]
  },
  {
   "cell_type": "markdown",
   "metadata": {},
   "source": [
    "## Missing Values"
   ]
  },
  {
   "cell_type": "code",
   "execution_count": 77,
   "metadata": {},
   "outputs": [
    {
     "data": {
      "text/plain": [
       "<matplotlib.axes._subplots.AxesSubplot at 0x1280b41d0>"
      ]
     },
     "execution_count": 77,
     "metadata": {},
     "output_type": "execute_result"
    },
    {
     "data": {
      "image/png": "[encoded data removed]",
      "text/plain": [
       "<Figure size 1332x756 with 1 Axes>"
      ]
     },
     "metadata": {
      "needs_background": "light"
     },
     "output_type": "display_data"
    }
   ],
   "source": [
    "fig = matplotlib.pyplot.gcf()\n",
    "fig.set_size_inches(18.5, 10.5)\n",
    "\n",
    "missing_values = train_df.isnull().sum().reset_index()\n",
    "missing_values.rename(columns = {'index': \"feature\", 0: 'count' }, inplace = True)\n",
    "missing_values['percentage'] =( missing_values[\"count\"]/train_df.shape[0])*100\n",
    "sns.barplot(x = 'percentage', y = 'feature', data = missing_values)"
   ]
  },
  {
   "cell_type": "markdown",
   "metadata": {},
   "source": [
    "# Categorical Variables"
   ]
  },
  {
   "cell_type": "code",
   "execution_count": 78,
   "metadata": {},
   "outputs": [],
   "source": [
    "categorical_columns = train_df.select_dtypes(include = 'object').columns"
   ]
  },
  {
   "cell_type": "code",
   "execution_count": 79,
   "metadata": {},
   "outputs": [
    {
     "data": {
      "application/vnd.jupyter.widget-view+json": {
       "model_id": "3a1c806f28fb4e88ac1dfe7e62a25b8d",
       "version_major": 2,
       "version_minor": 0
      },
      "text/plain": [
       "interactive(children=(Dropdown(description='Feature', options=('propertyzoningdesc', 'propertycountylandusecod…"
      ]
     },
     "metadata": {},
     "output_type": "display_data"
    }
   ],
   "source": [
    "import cufflinks as cf\n",
    "@interact\n",
    "def visualize_categorical_features(Feature= list(categorical_columns)): \n",
    "    fig, ax = plt.subplots(2,3, figsize=(16, 14))\n",
    "    plt.subplots_adjust(wspace=0.3)\n",
    "\n",
    "    labels_to_consider = train_df[Feature].value_counts().head(12).index\n",
    "    feature_data = train_df[train_df[Feature].isin(labels_to_consider)]\n",
    "    sns.countplot(y = Feature , data = feature_data, ax = ax[0][0] )    \n",
    "    sns.barplot(x = 'logerror'  , y = Feature , ax = ax[0][1], data = feature_data, ci = None)\n",
    "    sns.barplot(x = \"dayofweek\"  , y = Feature , ax = ax[0][2], data = feature_data, ci = None)\n",
    "    sns.barplot(x = \"month\"  , y = Feature , ax = ax[1][0], data = feature_data, ci = None)\n",
    "    sns.barplot(x = \"year\"  , y = Feature , ax = ax[1][1], data = feature_data, ci = None)\n",
    "    sns.barplot(x = \"week\"  , y = Feature , ax = ax[1][2], data = feature_data, ci = None)\n"
   ]
  },
  {
   "cell_type": "markdown",
   "metadata": {},
   "source": [
    "# Continous Variables"
   ]
  },
  {
   "cell_type": "code",
   "execution_count": 37,
   "metadata": {},
   "outputs": [],
   "source": [
    "numerical_columns = train_df.select_dtypes(exclude = 'object').columns"
   ]
  },
  {
   "cell_type": "code",
   "execution_count": 80,
   "metadata": {},
   "outputs": [
    {
     "data": {
      "application/vnd.jupyter.widget-view+json": {
       "model_id": "c467f1e91bc943c7a5775d3711a14c21",
       "version_major": 2,
       "version_minor": 0
      },
      "text/plain": [
       "interactive(children=(Dropdown(description='Feature', options=('heatingorsystemtypeid', 'buildingqualitytypeid…"
      ]
     },
     "metadata": {},
     "output_type": "display_data"
    }
   ],
   "source": [
    "import cufflinks as cf\n",
    "@interact\n",
    "def visualize_categorical_features(\n",
    "    Feature= list(numerical_columns),\n",
    "    Type = ['DensityDistribution',  'CountDistribution', 'Comparison']\n",
    "): \n",
    "\n",
    "    target = configuration['metadata']['target']\n",
    "    filtered_df = train_df[train_df[Feature].notnull()]\n",
    "    buckets_feature_name = Feature+\"_buckets\"\n",
    "    filtered_df[buckets_feature_name] = pd.cut(filtered_df[Feature], 15)\n",
    "    filtered_df[buckets_feature_name] =  filtered_df[buckets_feature_name].astype('object')\n",
    "\n",
    "    years = list(filtered_df['year'].unique())\n",
    "    months = list(filtered_df['month'].unique())\n",
    "    weeks = list(filtered_df['week'].unique())\n",
    "    \n",
    "    fig, ax = plt.subplots(1,3, figsize=(15, 10))\n",
    "    \n",
    "    rgb_colors = sns.color_palette(\"bright\", 50)\n",
    "    hex_colors = list(map(matplotlib.colors.rgb2hex, rgb_colors))\n",
    "    \n",
    "    if Type == 'DensityDistribution':\n",
    "        sns.set_palette(\"pastel\")\n",
    "        for i,  year in enumerate(years):\n",
    "            data = \"filtered_df\" + '_' + str(year)\n",
    "            data = filtered_df[filtered_df.year == year]\n",
    "            sns.distplot(data[Feature], ax = ax[0], hist = False, label = year, kde = True, color = hex_colors[i])\n",
    "            ax[0].set_title('Density Vs Year')\n",
    "            \n",
    "        for i, month in enumerate(months):\n",
    "            data = \"filtered_df\" + '_' + str(month)\n",
    "            data = filtered_df[filtered_df.month == month]\n",
    "            sns.distplot(data[Feature], ax = ax[1], hist = False, label = month, kde = True, color = hex_colors[i])\n",
    "            ax[1].set_title('Density Vs Month')\n",
    "            \n",
    "        for i, week in enumerate(weeks):\n",
    "            data = \"filtered_df\" + '_' + str(week)\n",
    "            data = filtered_df[filtered_df.week == week]\n",
    "            sns.distplot(data[Feature], ax = ax[2], hist = False, label = week, color = hex_colors[i])\n",
    "            ax[2].set_title('Density Vs Week')\n",
    "            ax[2].legend(bbox_to_anchor=(0.6,0.5))\n",
    "            ax[2].legend(bbox_to_anchor=(1.05, 1), loc=2, borderaxespad=0.4)\n",
    "            \n",
    "    if Type == 'CountDistribution':\n",
    "        plt.subplots_adjust(wspace=0.4)\n",
    "        for i, year in enumerate(years):\n",
    "            data = \"filtered_df\" + '_' + str(year)\n",
    "            data = filtered_df[filtered_df.year == year]\n",
    "            sns.countplot(y = data[buckets_feature_name], ax = ax[0], color = hex_colors[i], label = year)\n",
    "            ax[0].set_title('Count Vs Year')\n",
    "            ax[0].legend()\n",
    "            \n",
    "        for i,  month in enumerate(months):\n",
    "            data = \"filtered_df\" + '_' + str(month)\n",
    "            data = filtered_df[filtered_df.month == month]\n",
    "            sns.countplot(y = data[buckets_feature_name], ax = ax[1], label = month, color = hex_colors[i])\n",
    "            ax[1].set_title('Count Vs Month')\n",
    "            ax[1].legend()\n",
    "            \n",
    "        for i, week in enumerate(weeks):\n",
    "            data = \"filtered_df\" + '_' + str(week)\n",
    "            data = filtered_df[filtered_df.week == week]\n",
    "            sns.countplot(y = data[buckets_feature_name], ax = ax[2], label = week, color = hex_colors[i])\n",
    "            ax[2].set_title('Count Vs Week')  \n",
    "            ax[2].legend(bbox_to_anchor=(1.05, 1), loc=2, borderaxespad=0.4)\n",
    "\n",
    "            \n",
    "    if Type == 'Comparison':\n",
    "        sns.scatterplot(x = Feature, y = target, data = filtered_df, ax=ax[0], hue = 'week')\n",
    "        sns.scatterplot(x = Feature, y = target, data = filtered_df, ax=ax[1], hue = 'month')\n",
    "        sns.scatterplot(x = Feature, y = target, data = filtered_df, ax=ax[2], hue = 'year')\n",
    "        ax[0].set_title(\"{} vs {} with {}\".format(Feature, 'logerror', 'week'))\n",
    "        ax[1].set_title(\"{} vs {} with {}\".format(Feature, 'logerror', 'week'))\n",
    "        ax[2].set_title(\"{} vs {} with {}\".format(Feature, 'logerror', 'year'))\n"
   ]
  }
 ],
 "metadata": {
  "kernelspec": {
   "display_name": "Python 3",
   "language": "python",
   "name": "python3"
  },
  "language_info": {
   "codemirror_mode": {
    "name": "ipython",
    "version": 3
   },
   "file_extension": ".py",
   "mimetype": "text/x-python",
   "name": "python",
   "nbconvert_exporter": "python",
   "pygments_lexer": "ipython3",
   "version": "3.6.6"
  }
 },
 "nbformat": 4,
 "nbformat_minor": 2
}
